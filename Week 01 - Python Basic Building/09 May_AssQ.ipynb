{
 "cells": [
  {
   "cell_type": "markdown",
   "metadata": {},
   "source": [
    "**Q1. Create one variable containing following type of data:**\n",
    "**(i) string   (ii) list  (iii) float   (iv) tuple**"
   ]
  },
  {
   "cell_type": "code",
   "execution_count": 1,
   "metadata": {},
   "outputs": [],
   "source": [
    "# (i) String\n",
    "my_string = \"Data Scinece Masters 2.0\"\n",
    "\n",
    "# (ii) List\n",
    "my_list = [1, 2, 89, 65, \"pwskills\", \"Data Science\"]\n",
    "\n",
    "# (iii) Float\n",
    "my_float = 3.14523\n",
    "\n",
    "# (iv) Tuple\n",
    "my_tuple = (10, 15, 20, 25, 30, 35)"
   ]
  },
  {
   "cell_type": "code",
   "execution_count": 6,
   "metadata": {},
   "outputs": [
    {
     "name": "stdout",
     "output_type": "stream",
     "text": [
      "String: Data Scinece Masters 2.0\n",
      "List :  [1, 2, 89, 65, 'pwskills', 'Data Science']\n",
      "Float : 3.14523\n",
      "Tuple : (10, 15, 20, 25, 30, 35)\n"
     ]
    }
   ],
   "source": [
    "print(\"String:\",my_string)\n",
    "print(\"List : \",my_list)\n",
    "print(f'Float : {my_float}')\n",
    "print(f'Tuple : {my_tuple}')"
   ]
  },
  {
   "cell_type": "markdown",
   "metadata": {},
   "source": [
    "**Q2. Given are some following variables containing data:**\n",
    "**(i) var1 = ‘ ‘ (ii) var2 = ‘[ DS , ML , Python]’  (iii) var3 = [ ‘DS’ , ’ML’ , ‘Python’ ]  (iv) var4 = 1.**\n",
    "**What will be the data type of the above given variable.**"
   ]
  },
  {
   "cell_type": "code",
   "execution_count": 11,
   "metadata": {},
   "outputs": [
    {
     "name": "stdout",
     "output_type": "stream",
     "text": [
      "Var 1 = ' ' : <class 'str'>\n"
     ]
    }
   ],
   "source": [
    "# var1\n",
    "var1 = ' '\n",
    "type_var1 = type(var1)  # This will be a string\n",
    "\n",
    "\n",
    "# var2\n",
    "var2 = '[ DS , ML , Python]'\n",
    "type_var2 = type(var2)  # This will be a string\n",
    "\n",
    "# var3\n",
    "var3 = ['DS', 'ML', 'Python']\n",
    "type_var3 = type(var3)  # This will be a list\n",
    "\n",
    "# var4\n",
    "var4 = 1.0\n",
    "type_var4 = type(var4)  # This will be a float\n",
    "\n"
   ]
  },
  {
   "cell_type": "code",
   "execution_count": 13,
   "metadata": {},
   "outputs": [
    {
     "name": "stdout",
     "output_type": "stream",
     "text": [
      "Var 1 = ' ' : <class 'str'>\n",
      "var2 = '[ DS , ML , Python]' : <class 'str'>\n",
      "var3 = ['DS', 'ML', 'Python'] : <class 'list'>\n",
      "var4 = 1.0 :  <class 'float'>\n"
     ]
    }
   ],
   "source": [
    "print(f\"Var 1 = ' ' : {type_var1}\")\n",
    "print(f\"var2 = '[ DS , ML , Python]' : {type_var2}\")\n",
    "print(f\"var3 = ['DS', 'ML', 'Python'] : {type_var3}\")\n",
    "print(\"var4 = 1.0 : \", type_var4)"
   ]
  },
  {
   "cell_type": "markdown",
   "metadata": {},
   "source": [
    "**Q3. Explain the use of the following operators using an example:**\n",
    "<font color='green'>\n",
    "(i) /  (ii) %   (iii) //   (iv) **\n",
    "</font>"
   ]
  },
  {
   "cell_type": "markdown",
   "metadata": {},
   "source": [
    "(i)  / (Division Operator):\n",
    "The / operator performs division between two numbers and returns the quotient as a floating-point number."
   ]
  },
  {
   "cell_type": "code",
   "execution_count": 17,
   "metadata": {},
   "outputs": [
    {
     "name": "stdout",
     "output_type": "stream",
     "text": [
      "3.3333333333333335\n"
     ]
    }
   ],
   "source": [
    "# Example of Division Operator (/)\n",
    "a = 10\n",
    "b = 3\n",
    "result = a / b  \n",
    "print(result)\n"
   ]
  },
  {
   "cell_type": "markdown",
   "metadata": {},
   "source": [
    "(ii) % (Modulo Operator):\n",
    "The % operator returns the remainder of the division of the left operand by the right operand."
   ]
  },
  {
   "cell_type": "code",
   "execution_count": 23,
   "metadata": {},
   "outputs": [
    {
     "name": "stdout",
     "output_type": "stream",
     "text": [
      "1\n"
     ]
    }
   ],
   "source": [
    "# Example of Modulo Opeator (%)\n",
    "a = 10\n",
    "b = 3\n",
    "remainder = a % b \n",
    "print(remainder)"
   ]
  },
  {
   "cell_type": "markdown",
   "metadata": {},
   "source": [
    "(iii)  // (Floor Division Operator):\n",
    "The // operator performs division where the result is rounded down to the nearest whole number."
   ]
  },
  {
   "cell_type": "code",
   "execution_count": 22,
   "metadata": {},
   "outputs": [
    {
     "name": "stdout",
     "output_type": "stream",
     "text": [
      "3\n"
     ]
    }
   ],
   "source": [
    "# Example of Floor Division Operator (//)\n",
    "a = 10\n",
    "b = 3\n",
    "result = a // b  \n",
    "print(result)"
   ]
  },
  {
   "cell_type": "markdown",
   "metadata": {},
   "source": [
    "(iv)   ** (Exponent Operator):\n",
    "The ** operator raises the left operand to the power of the right operand."
   ]
  },
  {
   "cell_type": "code",
   "execution_count": 21,
   "metadata": {},
   "outputs": [
    {
     "name": "stdout",
     "output_type": "stream",
     "text": [
      "8\n"
     ]
    }
   ],
   "source": [
    "# Example of Exponent Operator (**)\n",
    "a = 2\n",
    "b = 3\n",
    "result = a ** b  \n",
    "print(result)"
   ]
  },
  {
   "cell_type": "markdown",
   "metadata": {},
   "source": [
    "**Q4. Create a list of length 10 of your choice containing multiple types of data. Using for loop print the**\n",
    "**element and its data type.**"
   ]
  },
  {
   "cell_type": "code",
   "execution_count": 24,
   "metadata": {},
   "outputs": [
    {
     "name": "stdout",
     "output_type": "stream",
     "text": [
      "Element: 1, Data Type: <class 'int'>\n",
      "Element: hello, Data Type: <class 'str'>\n",
      "Element: 3.14, Data Type: <class 'float'>\n",
      "Element: True, Data Type: <class 'bool'>\n",
      "Element: [1, 2], Data Type: <class 'list'>\n",
      "Element: {'a': 1}, Data Type: <class 'dict'>\n",
      "Element: (5, 6), Data Type: <class 'tuple'>\n",
      "Element: None, Data Type: <class 'NoneType'>\n",
      "Element: Python, Data Type: <class 'str'>\n",
      "Element: 7, Data Type: <class 'int'>\n"
     ]
    }
   ],
   "source": [
    "# Create a list of length containing 10 multiple data types of data\n",
    "\n",
    "my_list = [1, \"hello\", 3.14, True, [1, 2], {'a': 1}, (5, 6), None, 'Python', 7]\n",
    "\n",
    "for element in my_list:\n",
    "    print(f\"Element: {element}, Data Type: {type(element)}\")\n"
   ]
  },
  {
   "cell_type": "markdown",
   "metadata": {},
   "source": [
    "**Q5. Using a while loop, verify if the number A is purely divisible by number B and if so then how many**\n",
    "**times it can be divisible.**"
   ]
  },
  {
   "cell_type": "code",
   "execution_count": 33,
   "metadata": {},
   "outputs": [
    {
     "name": "stdout",
     "output_type": "stream",
     "text": [
      "20.0 is divisible by 5 and can be divided 2 times.\n"
     ]
    }
   ],
   "source": [
    "# Case 1 Where A and B are divisible\n",
    "A = 100  \n",
    "B = 5    \n",
    "\n",
    "count = 0\n",
    "\n",
    "while A % B == 0:\n",
    "    A /= B\n",
    "    count += 1\n",
    "\n",
    "if count > 0:\n",
    "    print(f\"{A*B} is divisible by {B} and can be divided {count} times.\")\n",
    "else:\n",
    "    print(f\"{A} is not divisible by {B}.\")\n"
   ]
  },
  {
   "cell_type": "markdown",
   "metadata": {},
   "source": [
    "**Q6. Create a list containing 25 int type data. Using for loop and if-else condition print if the element is**\n",
    "**divisible by 3 or not.**"
   ]
  },
  {
   "cell_type": "code",
   "execution_count": 34,
   "metadata": {},
   "outputs": [
    {
     "name": "stdout",
     "output_type": "stream",
     "text": [
      "23 is not divisible by 3\n",
      "15 is divisible by 3\n",
      "8 is not divisible by 3\n",
      "9 is divisible by 3\n",
      "12 is divisible by 3\n",
      "7 is not divisible by 3\n",
      "18 is divisible by 3\n",
      "30 is divisible by 3\n",
      "11 is not divisible by 3\n",
      "5 is not divisible by 3\n",
      "27 is divisible by 3\n",
      "21 is divisible by 3\n",
      "14 is not divisible by 3\n",
      "17 is not divisible by 3\n",
      "20 is not divisible by 3\n",
      "33 is divisible by 3\n",
      "6 is divisible by 3\n",
      "10 is not divisible by 3\n",
      "25 is not divisible by 3\n",
      "24 is divisible by 3\n",
      "36 is divisible by 3\n",
      "19 is not divisible by 3\n",
      "22 is not divisible by 3\n",
      "16 is not divisible by 3\n",
      "13 is not divisible by 3\n"
     ]
    }
   ],
   "source": [
    "# Creating a list of 25 integers \n",
    "my_list = [23, 15, 8, 9, 12, 7, 18, 30, 11, 5,\n",
    "           27, 21, 14, 17, 20, 33, 6, 10, 25, 24,\n",
    "           36, 19, 22, 16, 13]\n",
    "\n",
    "# Using a for loop to iterate through the list\n",
    "for num in my_list:\n",
    "    if num % 3 == 0:\n",
    "        print(f\"{num} is divisible by 3\")\n",
    "    else:\n",
    "        print(f\"{num} is not divisible by 3\")\n",
    "        \n"
   ]
  },
  {
   "cell_type": "markdown",
   "metadata": {},
   "source": [
    "**Q7. What do you understand about mutable and immutable data types? Give examples for both showing this property.**\n",
    "\n",
    "\n",
    "\n",
    "<font color='darkblue'>\n",
    "\n",
    "**Immutable Data Types: Immutable objects cannot be altered after they are created. Any operation that appears to modify an**\n",
    "**immutable object actually creates a new object.**\n",
    "**Examples include integers, floats, strings, tuples, and frozensets.**\n",
    "</font>"
   ]
  },
  {
   "cell_type": "code",
   "execution_count": 39,
   "metadata": {},
   "outputs": [],
   "source": [
    "# Immutable examples\n",
    "a = 5\n",
    "b = \"Hello\"\n",
    "c = (1, 2, 3)\n",
    "\n",
    "\n"
   ]
  },
  {
   "cell_type": "code",
   "execution_count": 40,
   "metadata": {},
   "outputs": [
    {
     "data": {
      "text/plain": [
       "5"
      ]
     },
     "execution_count": 40,
     "metadata": {},
     "output_type": "execute_result"
    }
   ],
   "source": [
    "a"
   ]
  },
  {
   "cell_type": "code",
   "execution_count": 41,
   "metadata": {},
   "outputs": [],
   "source": [
    "# When you perform operations on immutable types, like concatenating strings or \n",
    "# modifying numbers, you're actually creating new objects. For instance:\n",
    "\n",
    "# Modifying immutable types creates new objects\n",
    "a = 5\n",
    "a += 1  # This creates a new object with value 6"
   ]
  },
  {
   "cell_type": "code",
   "execution_count": 42,
   "metadata": {},
   "outputs": [
    {
     "data": {
      "text/plain": [
       "6"
      ]
     },
     "execution_count": 42,
     "metadata": {},
     "output_type": "execute_result"
    }
   ],
   "source": [
    "a"
   ]
  },
  {
   "cell_type": "markdown",
   "metadata": {},
   "source": [
    "<font color='darkblue'>\n",
    "\n",
    "**Mutable Data Types: Mutable objects can be altered after creation. Changes to a mutable object affect the object itself.**\n",
    "**Examples include lists, dictionaries, sets.**\n",
    "</font>"
   ]
  },
  {
   "cell_type": "code",
   "execution_count": 37,
   "metadata": {},
   "outputs": [
    {
     "name": "stdout",
     "output_type": "stream",
     "text": [
      "[1, 2, 3, 4]\n"
     ]
    }
   ],
   "source": [
    "# Mutable examples\n",
    "list_example = [1, 2, 3]\n",
    "dict_example = {'a': 1, 'b': 2}\n",
    "set_example = {1, 2, 3}\n",
    "\n",
    "# When you modify mutable types, you're altering the same object:\n",
    "\n",
    "# Modifying mutable types\n",
    "list_example = [1, 2, 3]\n",
    "list_example.append(4) \n",
    "print(list_example) # This alter the original list\n",
    "\n"
   ]
  }
 ],
 "metadata": {
  "kernelspec": {
   "display_name": "Python 3",
   "language": "python",
   "name": "python3"
  },
  "language_info": {
   "codemirror_mode": {
    "name": "ipython",
    "version": 3
   },
   "file_extension": ".py",
   "mimetype": "text/x-python",
   "name": "python",
   "nbconvert_exporter": "python",
   "pygments_lexer": "ipython3",
   "version": "3.12.0"
  }
 },
 "nbformat": 4,
 "nbformat_minor": 2
}
