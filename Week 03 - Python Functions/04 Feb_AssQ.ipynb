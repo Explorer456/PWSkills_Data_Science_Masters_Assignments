{
 "cells": [
  {
   "cell_type": "markdown",
   "metadata": {},
   "source": [
    "<font color='Red'>\n",
    "\n",
    "**Question 1: Create a python program to sort the given list of tuples based on integer value using a lambda function.**\n",
    "\n",
    "**[('Sachin Tendulkar', 34357), ('Ricky Ponting', 27483), ('Jack Kallis', 25534), ('Virat Kohli', 24936)]**\n",
    "</font>"
   ]
  },
  {
   "cell_type": "code",
   "execution_count": 12,
   "metadata": {},
   "outputs": [],
   "source": [
    "data = [('Sachin Tendulkar', 34357), ('Ricky Ponting', 27483), ('Jack Kallis', 25534), ('Virat Kohli', 24936)]\n"
   ]
  },
  {
   "cell_type": "code",
   "execution_count": 15,
   "metadata": {},
   "outputs": [
    {
     "name": "stdout",
     "output_type": "stream",
     "text": [
      "['Virat Kohli', 24936]\n",
      "['Jack Kallis', 25534]\n",
      "['Ricky Ponting', 27483]\n",
      "['Sachin Tendulkar', 34357]\n"
     ]
    }
   ],
   "source": [
    "sorted_data = sorted(data, key=lambda x: x[1])\n",
    "\n",
    "for item in sorted_data:\n",
    "    print(list(item))"
   ]
  },
  {
   "cell_type": "markdown",
   "metadata": {},
   "source": [
    "<font color = \"Red\">\n",
    "\n",
    "**Question 2 : Write a Python Program to find the squares of all the numbers in the given list of integers using**\n",
    "**lambda and map functions.**\n",
    "\n",
    "**[1, 2, 3, 4, 5, 6, 7, 8, 9, 10]**\n",
    "</font>"
   ]
  },
  {
   "cell_type": "code",
   "execution_count": 16,
   "metadata": {},
   "outputs": [
    {
     "name": "stdout",
     "output_type": "stream",
     "text": [
      "Originals Numbers :  [1, 2, 3, 4, 5, 6, 7, 8, 9, 10]\n",
      "Squares : [1, 4, 9, 16, 25, 36, 49, 64, 81, 100]\n"
     ]
    }
   ],
   "source": [
    "# List of integers\n",
    "numbers = [1,2,3,4,5,6,7,8,9,10]\n",
    "\n",
    "#Using lambda and map to find squares\n",
    "squares = list(map(lambda x: x**2, numbers))\n",
    "\n",
    "print(\"Originals Numbers : \", numbers)\n",
    "print(\"Squares :\", squares)"
   ]
  },
  {
   "cell_type": "markdown",
   "metadata": {},
   "source": [
    "<font color='Red'>\n",
    "\n",
    "**Question 3 : Write a python program to convert the given list of integers into a tuple of strings. Use map and lambda functions**\n",
    "\n",
    "**Given String: [1, 2, 3, 4, 5, 6, 7, 8, 9, 10]**\n",
    "**Expected output: ('1', '2', '3', '4', '5', '6', '7', '8', '9', '10')**\n",
    "</font>"
   ]
  },
  {
   "cell_type": "code",
   "execution_count": 17,
   "metadata": {},
   "outputs": [
    {
     "name": "stdout",
     "output_type": "stream",
     "text": [
      "('1', '2', '3', '4', '5', '6', '7', '8', '9', '10')\n"
     ]
    }
   ],
   "source": [
    "# Given List of integers\n",
    "l = [1,2,3,4,5,6,7,8,9,10]\n",
    "\n",
    "# Convert list of integers into tuple of string using map and lambda\n",
    "string_l = map(lambda s: str(s),l)\n",
    "\n",
    "print(tuple(string_l))"
   ]
  },
  {
   "cell_type": "markdown",
   "metadata": {},
   "source": [
    "<font color='Red'>\n",
    "\n",
    "**Question 4 : Write a python program using reduce function to compute the product of a list containing numbers from 1 to 25.**\n",
    "</font>"
   ]
  },
  {
   "cell_type": "code",
   "execution_count": 18,
   "metadata": {},
   "outputs": [
    {
     "name": "stdout",
     "output_type": "stream",
     "text": [
      "[1, 2, 3, 4, 5, 6, 7, 8, 9, 10, 11, 12, 13, 14, 15, 16, 17, 18, 19, 20, 21, 22, 23, 24, 25]\n"
     ]
    }
   ],
   "source": [
    "# Create a list contaning numbers from 1 to 25\n",
    "nums =  list(range(1,26))\n",
    "print(nums)"
   ]
  },
  {
   "cell_type": "code",
   "execution_count": 19,
   "metadata": {},
   "outputs": [
    {
     "name": "stdout",
     "output_type": "stream",
     "text": [
      "Product of list containing numbers from 1 to 25 : 15511210043330985984000000\n"
     ]
    }
   ],
   "source": [
    "\n",
    "from functools import reduce\n",
    "product = reduce(lambda x,y: x*y,nums)\n",
    "print(f'Product of list containing numbers from 1 to 25 : {product}')"
   ]
  },
  {
   "cell_type": "markdown",
   "metadata": {},
   "source": [
    "<font color='Red'>\n",
    "\n",
    "**Question 5 : . Write a python program to filter the numbers in a given list that are divisible by 2 and 3 using the filter function.**\n",
    "\n",
    "**[2, 3, 6, 9, 27, 60, 90, 120, 55, 46]**\n",
    "</font>"
   ]
  },
  {
   "cell_type": "code",
   "execution_count": 22,
   "metadata": {},
   "outputs": [
    {
     "name": "stdout",
     "output_type": "stream",
     "text": [
      "[2, 3, 6, 9, 27, 60, 90, 120, 55, 46]\n"
     ]
    }
   ],
   "source": [
    "# Defining list of numbers\n",
    "l = [2,3,6,9,27,60,90,120,55,46]\n",
    "print(l)"
   ]
  },
  {
   "cell_type": "code",
   "execution_count": 24,
   "metadata": {},
   "outputs": [
    {
     "name": "stdout",
     "output_type": "stream",
     "text": [
      "[6, 60, 90, 120]\n"
     ]
    }
   ],
   "source": [
    "# filter the number using filter function that are divisible by 2 and 3\n",
    "filtered_l = filter(lambda x: x%2==0 and x%3==0,l)\n",
    "print(list(filtered_l))"
   ]
  },
  {
   "cell_type": "markdown",
   "metadata": {},
   "source": [
    "<font color='Red'>\n",
    "\n",
    "**Question 6 : Write a python program to find palindromes in the given list of strings using lambda and filter function.**\n",
    "\n",
    "**['python', 'php', 'aba', 'radar', 'level']**\n",
    "</font>"
   ]
  },
  {
   "cell_type": "markdown",
   "metadata": {},
   "source": [
    "Answer : Palindrome - a word, phrase, or sequence that reads the same backwards as forwards, e.g. madam, nurses, run"
   ]
  },
  {
   "cell_type": "code",
   "execution_count": 25,
   "metadata": {},
   "outputs": [
    {
     "name": "stdout",
     "output_type": "stream",
     "text": [
      "['python', 'php', 'aba', 'radar', 'level']\n"
     ]
    }
   ],
   "source": [
    "#Define original list of string\n",
    "s = ['python', 'php', 'aba', 'radar', 'level']\n",
    "print(s)"
   ]
  },
  {
   "cell_type": "code",
   "execution_count": 26,
   "metadata": {},
   "outputs": [
    {
     "name": "stdout",
     "output_type": "stream",
     "text": [
      "['php', 'aba', 'radar', 'level']\n"
     ]
    }
   ],
   "source": [
    "# Using filter  and lambda function to find out palindromes of the given list of strings\n",
    "palindromes = filter(lambda x: x.lower() == x[::-1].lower(),s)\n",
    "print(list(palindromes))"
   ]
  }
 ],
 "metadata": {
  "kernelspec": {
   "display_name": "Python 3",
   "language": "python",
   "name": "python3"
  },
  "language_info": {
   "codemirror_mode": {
    "name": "ipython",
    "version": 3
   },
   "file_extension": ".py",
   "mimetype": "text/x-python",
   "name": "python",
   "nbconvert_exporter": "python",
   "pygments_lexer": "ipython3",
   "version": "3.12.0"
  }
 },
 "nbformat": 4,
 "nbformat_minor": 2
}
